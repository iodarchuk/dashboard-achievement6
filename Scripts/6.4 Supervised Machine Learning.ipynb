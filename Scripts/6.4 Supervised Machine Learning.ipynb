{
 "cells": [
  {
   "cell_type": "code",
   "execution_count": 1,
   "id": "9c5e560d",
   "metadata": {},
   "outputs": [],
   "source": [
    "import pandas as pd\n",
    "import numpy as np\n",
    "import seaborn as sns\n",
    "import matplotlib.pyplot as plt\n",
    "import matplotlib\n",
    "import os\n",
    "import sklearn\n",
    "from sklearn.model_selection import train_test_split\n",
    "from sklearn.linear_model import LinearRegression\n",
    "from sklearn.metrics import mean_squared_error, r2_score"
   ]
  },
  {
   "cell_type": "code",
   "execution_count": 2,
   "id": "8450a7ea",
   "metadata": {},
   "outputs": [],
   "source": [
    "path = r'C:\\Ach 6'\n",
    "df = pd.read_csv(os.path.join(path,'Data', 'Original', 'boatdata.csv'), index_col = False)"
   ]
  },
  {
   "cell_type": "code",
   "execution_count": 3,
   "id": "b96daf32",
   "metadata": {},
   "outputs": [
    {
     "data": {
      "text/html": [
       "<div>\n",
       "<style scoped>\n",
       "    .dataframe tbody tr th:only-of-type {\n",
       "        vertical-align: middle;\n",
       "    }\n",
       "\n",
       "    .dataframe tbody tr th {\n",
       "        vertical-align: top;\n",
       "    }\n",
       "\n",
       "    .dataframe thead th {\n",
       "        text-align: right;\n",
       "    }\n",
       "</style>\n",
       "<table border=\"1\" class=\"dataframe\">\n",
       "  <thead>\n",
       "    <tr style=\"text-align: right;\">\n",
       "      <th></th>\n",
       "      <th>Price</th>\n",
       "      <th>$ per sqr meter</th>\n",
       "      <th>Boat Type</th>\n",
       "      <th>Manufacturer</th>\n",
       "      <th>Type</th>\n",
       "      <th>Year Built</th>\n",
       "      <th>Length</th>\n",
       "      <th>Width</th>\n",
       "      <th>Meter Squared</th>\n",
       "      <th>Material</th>\n",
       "      <th>Location</th>\n",
       "      <th>Number of views last 7 days</th>\n",
       "      <th>Latitude</th>\n",
       "      <th>Longitude</th>\n",
       "    </tr>\n",
       "  </thead>\n",
       "  <tbody>\n",
       "    <tr>\n",
       "      <th>0</th>\n",
       "      <td>3430.70</td>\n",
       "      <td>654.738730</td>\n",
       "      <td>Sport Boat</td>\n",
       "      <td>Marine power boats</td>\n",
       "      <td>new boat from stock</td>\n",
       "      <td>2007</td>\n",
       "      <td>3.69</td>\n",
       "      <td>1.42</td>\n",
       "      <td>5.2398</td>\n",
       "      <td>Aluminium</td>\n",
       "      <td>Switzerland Ã‚Â» Lake of Zurich Ã‚Â» StÃƒÂ¤fa ZH</td>\n",
       "      <td>124</td>\n",
       "      <td>47.222522</td>\n",
       "      <td>8.752711</td>\n",
       "    </tr>\n",
       "    <tr>\n",
       "      <th>1</th>\n",
       "      <td>3331.02</td>\n",
       "      <td>642.681845</td>\n",
       "      <td>Fishing Boat</td>\n",
       "      <td>Linder power boats</td>\n",
       "      <td>new boat from stock</td>\n",
       "      <td>2019</td>\n",
       "      <td>3.55</td>\n",
       "      <td>1.46</td>\n",
       "      <td>5.1830</td>\n",
       "      <td>Aluminium</td>\n",
       "      <td>Germany Ã‚Â» Bayern Ã‚Â» MÃƒÂ¼nchen</td>\n",
       "      <td>58</td>\n",
       "      <td>51.165691</td>\n",
       "      <td>10.451526</td>\n",
       "    </tr>\n",
       "    <tr>\n",
       "      <th>2</th>\n",
       "      <td>3321.50</td>\n",
       "      <td>528.329198</td>\n",
       "      <td>Sport Boat</td>\n",
       "      <td>Linder power boats</td>\n",
       "      <td>new boat from stock</td>\n",
       "      <td>2007</td>\n",
       "      <td>4.03</td>\n",
       "      <td>1.56</td>\n",
       "      <td>6.2868</td>\n",
       "      <td>Aluminium</td>\n",
       "      <td>Switzerland Ã‚Â» Lake Constance Ã‚Â» Uttwil</td>\n",
       "      <td>132</td>\n",
       "      <td>47.583499</td>\n",
       "      <td>9.340498</td>\n",
       "    </tr>\n",
       "    <tr>\n",
       "      <th>3</th>\n",
       "      <td>3166.80</td>\n",
       "      <td>543.815362</td>\n",
       "      <td>Fishing Boat</td>\n",
       "      <td>Marine power boats</td>\n",
       "      <td>new boat from stock</td>\n",
       "      <td>2007</td>\n",
       "      <td>4.13</td>\n",
       "      <td>1.41</td>\n",
       "      <td>5.8233</td>\n",
       "      <td>Aluminium</td>\n",
       "      <td>Switzerland Ã‚Â» Lake of Zurich Ã‚Â» StÃƒÂ¤fa ...</td>\n",
       "      <td>145</td>\n",
       "      <td>47.222522</td>\n",
       "      <td>8.752711</td>\n",
       "    </tr>\n",
       "    <tr>\n",
       "      <th>4</th>\n",
       "      <td>4186.00</td>\n",
       "      <td>576.584022</td>\n",
       "      <td>Runabout</td>\n",
       "      <td>Kimple power boats</td>\n",
       "      <td>new boat from stock</td>\n",
       "      <td>2020</td>\n",
       "      <td>4.40</td>\n",
       "      <td>1.65</td>\n",
       "      <td>7.2600</td>\n",
       "      <td>Aluminium</td>\n",
       "      <td>Switzerland Ã‚Â» Zugersee Ã‚Â» Neuheim</td>\n",
       "      <td>113</td>\n",
       "      <td>47.204778</td>\n",
       "      <td>8.575354</td>\n",
       "    </tr>\n",
       "  </tbody>\n",
       "</table>\n",
       "</div>"
      ],
      "text/plain": [
       "     Price  $ per sqr meter     Boat Type        Manufacturer  \\\n",
       "0  3430.70       654.738730    Sport Boat  Marine power boats   \n",
       "1  3331.02       642.681845  Fishing Boat  Linder power boats   \n",
       "2  3321.50       528.329198    Sport Boat  Linder power boats   \n",
       "3  3166.80       543.815362  Fishing Boat  Marine power boats   \n",
       "4  4186.00       576.584022      Runabout  Kimple power boats   \n",
       "\n",
       "                  Type  Year Built  Length  Width  Meter Squared   Material  \\\n",
       "0  new boat from stock        2007    3.69   1.42         5.2398  Aluminium   \n",
       "1  new boat from stock        2019    3.55   1.46         5.1830  Aluminium   \n",
       "2  new boat from stock        2007    4.03   1.56         6.2868  Aluminium   \n",
       "3  new boat from stock        2007    4.13   1.41         5.8233  Aluminium   \n",
       "4  new boat from stock        2020    4.40   1.65         7.2600  Aluminium   \n",
       "\n",
       "                                            Location  \\\n",
       "0   Switzerland Ã‚Â» Lake of Zurich Ã‚Â» StÃƒÂ¤fa ZH   \n",
       "1                Germany Ã‚Â» Bayern Ã‚Â» MÃƒÂ¼nchen   \n",
       "2        Switzerland Ã‚Â» Lake Constance Ã‚Â» Uttwil   \n",
       "3  Switzerland Ã‚Â» Lake of Zurich Ã‚Â» StÃƒÂ¤fa ...   \n",
       "4             Switzerland Ã‚Â» Zugersee Ã‚Â» Neuheim   \n",
       "\n",
       "   Number of views last 7 days   Latitude  Longitude  \n",
       "0                          124  47.222522   8.752711  \n",
       "1                           58  51.165691  10.451526  \n",
       "2                          132  47.583499   9.340498  \n",
       "3                          145  47.222522   8.752711  \n",
       "4                          113  47.204778   8.575354  "
      ]
     },
     "execution_count": 3,
     "metadata": {},
     "output_type": "execute_result"
    }
   ],
   "source": [
    "df.head()"
   ]
  },
  {
   "cell_type": "code",
   "execution_count": null,
   "id": "a5fc0de2",
   "metadata": {},
   "outputs": [],
   "source": []
  },
  {
   "cell_type": "code",
   "execution_count": 16,
   "id": "0caae137",
   "metadata": {},
   "outputs": [
    {
     "name": "stderr",
     "output_type": "stream",
     "text": [
      "C:\\Users\\odarc\\anaconda3\\lib\\site-packages\\seaborn\\distributions.py:2619: FutureWarning: `distplot` is a deprecated function and will be removed in a future version. Please adapt your code to use either `displot` (a figure-level function with similar flexibility) or `histplot` (an axes-level function for histograms).\n",
      "  warnings.warn(msg, FutureWarning)\n"
     ]
    },
    {
     "data": {
      "text/plain": [
       "<AxesSubplot:xlabel='$ per sqr meter', ylabel='Density'>"
      ]
     },
     "execution_count": 16,
     "metadata": {},
     "output_type": "execute_result"
    },
    {
     "data": {
      "image/png": "[encoded data removed]",
      "text/plain": [
       "<Figure size 640x480 with 1 Axes>"
      ]
     },
     "metadata": {},
     "output_type": "display_data"
    }
   ],
   "source": [
    "sns.distplot(df['$ per sqr meter'], bins=25)"
   ]
  },
  {
   "cell_type": "code",
   "execution_count": 18,
   "id": "00c3c84b",
   "metadata": {},
   "outputs": [
    {
     "data": {
      "image/png": "[encoded data removed]",
      "text/plain": [
       "<Figure size 640x480 with 1 Axes>"
      ]
     },
     "metadata": {},
     "output_type": "display_data"
    }
   ],
   "source": [
    "df.plot(x = 'Meter Squared', y='Price',style='o') \n",
    "plt.title('Size vs Price')  \n",
    "plt.xlabel('Size')  \n",
    "plt.ylabel('Price')  \n",
    "plt.show()"
   ]
  },
  {
   "cell_type": "code",
   "execution_count": 19,
   "id": "385c6d53",
   "metadata": {},
   "outputs": [],
   "source": [
    "X = df['Meter Squared'].values.reshape(-1,1)\n",
    "y = df['Price'].values.reshape(-1,1)"
   ]
  },
  {
   "cell_type": "code",
   "execution_count": 20,
   "id": "3780b723",
   "metadata": {},
   "outputs": [
    {
     "data": {
      "text/plain": [
       "array([[ 5.2398],\n",
       "       [ 5.183 ],\n",
       "       [ 6.2868],\n",
       "       ...,\n",
       "       [11.2   ],\n",
       "       [15.34  ],\n",
       "       [12.24  ]])"
      ]
     },
     "execution_count": 20,
     "metadata": {},
     "output_type": "execute_result"
    }
   ],
   "source": [
    "X"
   ]
  },
  {
   "cell_type": "code",
   "execution_count": 21,
   "id": "3d621665",
   "metadata": {},
   "outputs": [
    {
     "data": {
      "text/plain": [
       "array([[ 3430.7 ],\n",
       "       [ 3331.02],\n",
       "       [ 3321.5 ],\n",
       "       ...,\n",
       "       [44100.  ],\n",
       "       [44100.  ],\n",
       "       [43589.  ]])"
      ]
     },
     "execution_count": 21,
     "metadata": {},
     "output_type": "execute_result"
    }
   ],
   "source": [
    "y"
   ]
  },
  {
   "cell_type": "code",
   "execution_count": 22,
   "id": "03b36cc9",
   "metadata": {},
   "outputs": [],
   "source": [
    "X_train, X_test, y_train, y_test = train_test_split(X, y, test_size=0.3, random_state=0)"
   ]
  },
  {
   "cell_type": "code",
   "execution_count": null,
   "id": "69c381cb",
   "metadata": {},
   "outputs": [],
   "source": []
  },
  {
   "cell_type": "code",
   "execution_count": 23,
   "id": "137824ca",
   "metadata": {},
   "outputs": [],
   "source": [
    "regression = LinearRegression()"
   ]
  },
  {
   "cell_type": "code",
   "execution_count": 24,
   "id": "ab9d872e",
   "metadata": {},
   "outputs": [
    {
     "data": {
      "text/plain": [
       "LinearRegression()"
      ]
     },
     "execution_count": 24,
     "metadata": {},
     "output_type": "execute_result"
    }
   ],
   "source": [
    "regression.fit(X_train, y_train)"
   ]
  },
  {
   "cell_type": "code",
   "execution_count": 25,
   "id": "aa20b1df",
   "metadata": {},
   "outputs": [],
   "source": [
    "y_predicted = regression.predict(X_test)"
   ]
  },
  {
   "cell_type": "code",
   "execution_count": 26,
   "id": "421a695e",
   "metadata": {},
   "outputs": [
    {
     "data": {
      "image/png": "[encoded data removed]",
      "text/plain": [
       "<Figure size 640x480 with 1 Axes>"
      ]
     },
     "metadata": {},
     "output_type": "display_data"
    }
   ],
   "source": [
    "plot_test = plt\n",
    "plot_test.scatter(X_test, y_test, color='gray', s = 15)\n",
    "plot_test.plot(X_test, y_predicted, color='red', linewidth =3)\n",
    "plot_test.title('Meter Squared vs Price (Test set)')\n",
    "plot_test.xlabel('Meter Squared')\n",
    "plot_test.ylabel('Price')\n",
    "plot_test.show()"
   ]
  },
  {
   "cell_type": "code",
   "execution_count": 27,
   "id": "8baf7318",
   "metadata": {},
   "outputs": [],
   "source": [
    "rmse = mean_squared_error(y_test, y_predicted) \n",
    "r2 = r2_score(y_test, y_predicted)"
   ]
  },
  {
   "cell_type": "code",
   "execution_count": 28,
   "id": "d9c83b95",
   "metadata": {},
   "outputs": [
    {
     "name": "stdout",
     "output_type": "stream",
     "text": [
      "Slope: [[12281.71236025]]\n",
      "Mean squared error:  279954608949.6567\n",
      "R2 score:  0.5338212900338353\n"
     ]
    }
   ],
   "source": [
    "print('Slope:' ,regression.coef_)\n",
    "print('Mean squared error: ', rmse)\n",
    "print('R2 score: ', r2)"
   ]
  },
  {
   "cell_type": "code",
   "execution_count": 29,
   "id": "510fffb9",
   "metadata": {},
   "outputs": [
    {
     "data": {
      "text/html": [
       "<div>\n",
       "<style scoped>\n",
       "    .dataframe tbody tr th:only-of-type {\n",
       "        vertical-align: middle;\n",
       "    }\n",
       "\n",
       "    .dataframe tbody tr th {\n",
       "        vertical-align: top;\n",
       "    }\n",
       "\n",
       "    .dataframe thead th {\n",
       "        text-align: right;\n",
       "    }\n",
       "</style>\n",
       "<table border=\"1\" class=\"dataframe\">\n",
       "  <thead>\n",
       "    <tr style=\"text-align: right;\">\n",
       "      <th></th>\n",
       "      <th>Actual</th>\n",
       "      <th>Predicted</th>\n",
       "    </tr>\n",
       "  </thead>\n",
       "  <tbody>\n",
       "    <tr>\n",
       "      <th>0</th>\n",
       "      <td>19590.2</td>\n",
       "      <td>-1.432686e+05</td>\n",
       "    </tr>\n",
       "    <tr>\n",
       "      <th>1</th>\n",
       "      <td>213640.0</td>\n",
       "      <td>2.648233e+05</td>\n",
       "    </tr>\n",
       "    <tr>\n",
       "      <th>2</th>\n",
       "      <td>14514.5</td>\n",
       "      <td>-1.697185e+05</td>\n",
       "    </tr>\n",
       "    <tr>\n",
       "      <th>3</th>\n",
       "      <td>488040.0</td>\n",
       "      <td>5.919319e+05</td>\n",
       "    </tr>\n",
       "    <tr>\n",
       "      <th>4</th>\n",
       "      <td>42042.0</td>\n",
       "      <td>6.932787e+04</td>\n",
       "    </tr>\n",
       "    <tr>\n",
       "      <th>5</th>\n",
       "      <td>34300.0</td>\n",
       "      <td>1.069885e+05</td>\n",
       "    </tr>\n",
       "    <tr>\n",
       "      <th>6</th>\n",
       "      <td>191100.0</td>\n",
       "      <td>4.047758e+05</td>\n",
       "    </tr>\n",
       "    <tr>\n",
       "      <th>7</th>\n",
       "      <td>33222.0</td>\n",
       "      <td>-7.772844e+04</td>\n",
       "    </tr>\n",
       "    <tr>\n",
       "      <th>8</th>\n",
       "      <td>430220.0</td>\n",
       "      <td>5.503583e+05</td>\n",
       "    </tr>\n",
       "    <tr>\n",
       "      <th>9</th>\n",
       "      <td>35270.2</td>\n",
       "      <td>-1.116518e+05</td>\n",
       "    </tr>\n",
       "    <tr>\n",
       "      <th>10</th>\n",
       "      <td>67620.0</td>\n",
       "      <td>2.328122e+05</td>\n",
       "    </tr>\n",
       "    <tr>\n",
       "      <th>11</th>\n",
       "      <td>102900.0</td>\n",
       "      <td>3.894782e+04</td>\n",
       "    </tr>\n",
       "    <tr>\n",
       "      <th>12</th>\n",
       "      <td>443156.0</td>\n",
       "      <td>3.532368e+05</td>\n",
       "    </tr>\n",
       "    <tr>\n",
       "      <th>13</th>\n",
       "      <td>57820.0</td>\n",
       "      <td>7.358225e+04</td>\n",
       "    </tr>\n",
       "    <tr>\n",
       "      <th>14</th>\n",
       "      <td>16660.0</td>\n",
       "      <td>-8.783875e+04</td>\n",
       "    </tr>\n",
       "    <tr>\n",
       "      <th>15</th>\n",
       "      <td>65562.0</td>\n",
       "      <td>-4.276486e+04</td>\n",
       "    </tr>\n",
       "    <tr>\n",
       "      <th>16</th>\n",
       "      <td>258000.0</td>\n",
       "      <td>2.323737e+05</td>\n",
       "    </tr>\n",
       "    <tr>\n",
       "      <th>17</th>\n",
       "      <td>17745.0</td>\n",
       "      <td>-1.057799e+05</td>\n",
       "    </tr>\n",
       "    <tr>\n",
       "      <th>18</th>\n",
       "      <td>27366.5</td>\n",
       "      <td>-7.158759e+04</td>\n",
       "    </tr>\n",
       "    <tr>\n",
       "      <th>19</th>\n",
       "      <td>106820.0</td>\n",
       "      <td>-1.391370e+05</td>\n",
       "    </tr>\n",
       "    <tr>\n",
       "      <th>20</th>\n",
       "      <td>97902.0</td>\n",
       "      <td>3.092253e+05</td>\n",
       "    </tr>\n",
       "    <tr>\n",
       "      <th>21</th>\n",
       "      <td>155820.0</td>\n",
       "      <td>3.040117e+05</td>\n",
       "    </tr>\n",
       "    <tr>\n",
       "      <th>22</th>\n",
       "      <td>6500000.0</td>\n",
       "      <td>2.066128e+06</td>\n",
       "    </tr>\n",
       "    <tr>\n",
       "      <th>23</th>\n",
       "      <td>24402.0</td>\n",
       "      <td>-3.284370e+04</td>\n",
       "    </tr>\n",
       "    <tr>\n",
       "      <th>24</th>\n",
       "      <td>122500.0</td>\n",
       "      <td>2.610503e+05</td>\n",
       "    </tr>\n",
       "    <tr>\n",
       "      <th>25</th>\n",
       "      <td>33614.0</td>\n",
       "      <td>-5.361944e+04</td>\n",
       "    </tr>\n",
       "    <tr>\n",
       "      <th>26</th>\n",
       "      <td>16660.0</td>\n",
       "      <td>-8.105679e+04</td>\n",
       "    </tr>\n",
       "    <tr>\n",
       "      <th>27</th>\n",
       "      <td>518420.0</td>\n",
       "      <td>3.168216e+05</td>\n",
       "    </tr>\n",
       "    <tr>\n",
       "      <th>28</th>\n",
       "      <td>171061.8</td>\n",
       "      <td>3.480275e+04</td>\n",
       "    </tr>\n",
       "    <tr>\n",
       "      <th>29</th>\n",
       "      <td>200900.0</td>\n",
       "      <td>6.094579e+05</td>\n",
       "    </tr>\n",
       "  </tbody>\n",
       "</table>\n",
       "</div>"
      ],
      "text/plain": [
       "       Actual     Predicted\n",
       "0     19590.2 -1.432686e+05\n",
       "1    213640.0  2.648233e+05\n",
       "2     14514.5 -1.697185e+05\n",
       "3    488040.0  5.919319e+05\n",
       "4     42042.0  6.932787e+04\n",
       "5     34300.0  1.069885e+05\n",
       "6    191100.0  4.047758e+05\n",
       "7     33222.0 -7.772844e+04\n",
       "8    430220.0  5.503583e+05\n",
       "9     35270.2 -1.116518e+05\n",
       "10    67620.0  2.328122e+05\n",
       "11   102900.0  3.894782e+04\n",
       "12   443156.0  3.532368e+05\n",
       "13    57820.0  7.358225e+04\n",
       "14    16660.0 -8.783875e+04\n",
       "15    65562.0 -4.276486e+04\n",
       "16   258000.0  2.323737e+05\n",
       "17    17745.0 -1.057799e+05\n",
       "18    27366.5 -7.158759e+04\n",
       "19   106820.0 -1.391370e+05\n",
       "20    97902.0  3.092253e+05\n",
       "21   155820.0  3.040117e+05\n",
       "22  6500000.0  2.066128e+06\n",
       "23    24402.0 -3.284370e+04\n",
       "24   122500.0  2.610503e+05\n",
       "25    33614.0 -5.361944e+04\n",
       "26    16660.0 -8.105679e+04\n",
       "27   518420.0  3.168216e+05\n",
       "28   171061.8  3.480275e+04\n",
       "29   200900.0  6.094579e+05"
      ]
     },
     "execution_count": 29,
     "metadata": {},
     "output_type": "execute_result"
    }
   ],
   "source": [
    "data = pd.DataFrame({'Actual': y_test.flatten(), 'Predicted': y_predicted.flatten()})\n",
    "data.head(30)"
   ]
  },
  {
   "cell_type": "code",
   "execution_count": 30,
   "id": "127de354",
   "metadata": {},
   "outputs": [],
   "source": [
    "y_predicted_train = regression.predict(X_train)"
   ]
  },
  {
   "cell_type": "code",
   "execution_count": 31,
   "id": "7c770915",
   "metadata": {},
   "outputs": [],
   "source": [
    "rmse = mean_squared_error(y_train, y_predicted_train)\n",
    "r2 = r2_score(y_train, y_predicted_train)"
   ]
  },
  {
   "cell_type": "code",
   "execution_count": 32,
   "id": "4e9154b2",
   "metadata": {},
   "outputs": [
    {
     "name": "stdout",
     "output_type": "stream",
     "text": [
      "Slope: [[12281.71236025]]\n",
      "Mean squared error:  211088849220.46448\n",
      "R2 score:  0.4970832784730662\n"
     ]
    }
   ],
   "source": [
    "print('Slope:' ,regression.coef_)\n",
    "print('Mean squared error: ', rmse)\n",
    "print('R2 score: ', r2)"
   ]
  },
  {
   "cell_type": "code",
   "execution_count": 34,
   "id": "fe418230",
   "metadata": {},
   "outputs": [
    {
     "data": {
      "image/png": "[encoded data removed]",
      "text/plain": [
       "<Figure size 640x480 with 1 Axes>"
      ]
     },
     "metadata": {},
     "output_type": "display_data"
    }
   ],
   "source": [
    "plot_test = plt\n",
    "plot_test.scatter(X_train, y_train, color='gray', s = 15)\n",
    "plot_test.plot(X_train, y_predicted_train, color='red', linewidth =3)\n",
    "plot_test.title('Meter Squared vs Price  (Train set)')\n",
    "plot_test.xlabel('Meter Squared')\n",
    "plot_test.ylabel('Price')\n",
    "plot_test.show()"
   ]
  },
  {
   "cell_type": "code",
   "execution_count": null,
   "id": "7611c365",
   "metadata": {},
   "outputs": [],
   "source": []
  }
 ],
 "metadata": {
  "kernelspec": {
   "display_name": "Python 3 (ipykernel)",
   "language": "python",
   "name": "python3"
  },
  "language_info": {
   "codemirror_mode": {
    "name": "ipython",
    "version": 3
   },
   "file_extension": ".py",
   "mimetype": "text/x-python",
   "name": "python",
   "nbconvert_exporter": "python",
   "pygments_lexer": "ipython3",
   "version": "3.9.13"
  }
 },
 "nbformat": 4,
 "nbformat_minor": 5
}
